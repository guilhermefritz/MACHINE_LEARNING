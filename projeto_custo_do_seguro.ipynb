{
  "nbformat": 4,
  "nbformat_minor": 0,
  "metadata": {
    "colab": {
      "provenance": [],
      "authorship_tag": "ABX9TyPU4iWIOdWmKRKsZPkKFspv",
      "include_colab_link": true
    },
    "kernelspec": {
      "name": "python3",
      "display_name": "Python 3"
    },
    "language_info": {
      "name": "python"
    }
  },
  "cells": [
    {
      "cell_type": "markdown",
      "metadata": {
        "id": "view-in-github",
        "colab_type": "text"
      },
      "source": [
        "<a href=\"https://colab.research.google.com/github/guilhermefritz/Machine_Learning/blob/main/projeto_custo_do_seguro.ipynb\" target=\"_parent\"><img src=\"https://colab.research.google.com/assets/colab-badge.svg\" alt=\"Open In Colab\"/></a>"
      ]
    },
    {
      "cell_type": "markdown",
      "source": [
        "# ***Projeto-Prevendo o custo do seguro***\n",
        "\n",
        "**Problema de Regressão Linear.**\n",
        "\n",
        "Nesse projeto estarei trabalhando em cima do dataset disponivel no https://www.kaggle.com/jamiemorales/linear-regression-insurance-prices\n",
        "\n"
      ],
      "metadata": {
        "id": "WrUlHl6Ek5Qv"
      }
    },
    {
      "cell_type": "code",
      "source": [
        "#Importando os pacotes que serão utilizados\n",
        "import pandas as pd\n",
        "import os\n",
        "import seaborn as sns\n",
        "from sklearn.model_selection import train_test_split\n",
        "from sklearn.linear_model import LinearRegression\n",
        "from sklearn.preprocessing import LabelEncoder\n",
        "import warnings\n",
        "warnings.filterwarnings('ignore')\n",
        "#importando o dataset \n",
        "df=pd.read_csv(\"/content/insurance.csv\")\n",
        "\n",
        "#Visualizando uma parte dos dados\n",
        "df.head()\n",
        "\n"
      ],
      "metadata": {
        "id": "AHQZUGBEmE_P"
      },
      "execution_count": null,
      "outputs": []
    },
    {
      "cell_type": "code",
      "source": [
        "#Puxando informações de cada variavel\n",
        "df.info()\n"
      ],
      "metadata": {
        "id": "m92IRyQ1nURg"
      },
      "execution_count": null,
      "outputs": []
    },
    {
      "cell_type": "code",
      "source": [
        "#verificando se existe algum valor missing  \n",
        "df.isnull().sum()\n"
      ],
      "metadata": {
        "id": "drtyGb0lnn_X"
      },
      "execution_count": null,
      "outputs": []
    },
    {
      "cell_type": "code",
      "source": [
        "#verificando se existe algum valor duplicado\n",
        "df.duplicated().sum()\n",
        "\n"
      ],
      "metadata": {
        "id": "_DHqiNBXoAVH"
      },
      "execution_count": null,
      "outputs": []
    },
    {
      "cell_type": "code",
      "source": [
        "#mostrando quais valores estao duplicados\n",
        "df[df.duplicated(keep=False)]\n"
      ],
      "metadata": {
        "id": "EC8Axl11oT1w"
      },
      "execution_count": null,
      "outputs": []
    },
    {
      "cell_type": "code",
      "source": [
        "#eliminando o segundo valor duplicado\n",
        "df.drop_duplicates(keep='first',inplace=True)"
      ],
      "metadata": {
        "id": "Z-LlU8BKpzMG"
      },
      "execution_count": null,
      "outputs": []
    },
    {
      "cell_type": "code",
      "source": [
        "#verificando se realmente eliminou\n",
        "df[df.duplicated(keep=False)]"
      ],
      "metadata": {
        "id": "wM9L3q8Bomyq"
      },
      "execution_count": null,
      "outputs": []
    },
    {
      "cell_type": "code",
      "source": [
        "#Olhando como ficou\n",
        "df.iloc[195]"
      ],
      "metadata": {
        "id": "5kbSN34sqOSA"
      },
      "execution_count": null,
      "outputs": []
    },
    {
      "cell_type": "code",
      "source": [
        "#Olhando como ficou\n",
        "df.iloc[581]"
      ],
      "metadata": {
        "id": "SbFCbZKNqRAw"
      },
      "execution_count": null,
      "outputs": []
    },
    {
      "cell_type": "code",
      "source": [
        "#vendo os valores e suas respectivas quantidades dentro da coluna 'sex'(genero)\n",
        "df.sex.value_counts()\n"
      ],
      "metadata": {
        "id": "kIe_FGrRotiv"
      },
      "execution_count": null,
      "outputs": []
    },
    {
      "cell_type": "code",
      "source": [
        "#Visualizaçao grafica dA\n",
        "sns.histplot(df.sex)"
      ],
      "metadata": {
        "id": "reWJRJscqAiT"
      },
      "execution_count": null,
      "outputs": []
    },
    {
      "cell_type": "code",
      "source": [
        "#vendo os valores e suas respectivas quantidades dentro da coluna 'smoker'(pessoas fumantes)\n",
        "df.smoker.value_counts()\n"
      ],
      "metadata": {
        "id": "vNlgUYxPpIXM"
      },
      "execution_count": null,
      "outputs": []
    },
    {
      "cell_type": "code",
      "source": [
        "#Explorando a visualização dos dados\n",
        "sns.pairplot(df)"
      ],
      "metadata": {
        "id": "Tpxy8Q5bWAgm"
      },
      "execution_count": null,
      "outputs": []
    },
    {
      "cell_type": "code",
      "source": [
        "#Visualizacao grafica disso\n",
        "sns.histplot(df.smoker)"
      ],
      "metadata": {
        "id": "K4rwm-U0qJqY"
      },
      "execution_count": null,
      "outputs": []
    },
    {
      "cell_type": "code",
      "source": [
        "# Parte de treino para a transformação das variaveis categoricas para a utilizaçao no modelo\n",
        "#Elas são importantes para a construçao do modelo preditivo\n",
        "\n",
        "\n",
        "le=LabelEncoder()\n",
        "le.fit(df['sex'].drop_duplicates())\n",
        "le.fit(df['smoker'].drop_duplicates())"
      ],
      "metadata": {
        "id": "NOtJt0qhrB25"
      },
      "execution_count": null,
      "outputs": []
    },
    {
      "cell_type": "code",
      "source": [
        "#Parte de transformar\n",
        "df.sex=le.fit_transform(df['sex'])\n",
        "df.smoker=le.fit_transform(df['smoker'])"
      ],
      "metadata": {
        "id": "LPjJlYB2rg7z"
      },
      "execution_count": null,
      "outputs": []
    },
    {
      "cell_type": "code",
      "source": [
        "#Verificamos agora a variavel 'sex' em sua forma numerica\n",
        "df.sex.unique()"
      ],
      "metadata": {
        "id": "1jd7Y3yBrzT1"
      },
      "execution_count": null,
      "outputs": []
    },
    {
      "cell_type": "code",
      "source": [
        "#Verificamos agora a variavel 'smoker' em sua forma numerica\n",
        "df.smoker.unique()"
      ],
      "metadata": {
        "id": "6BA2u_fbr2xe"
      },
      "execution_count": null,
      "outputs": []
    },
    {
      "cell_type": "code",
      "source": [
        "#Chamamos a correlaçao das variaveis quando relacionadas a variavel 'charges'(Custo do seguro)\n",
        "#Verificamos que a variavel 'smoker' é a que mais tem correlação positiva\n",
        "df.corr()['charges']"
      ],
      "metadata": {
        "id": "MNgCxGTcr4IN"
      },
      "execution_count": null,
      "outputs": []
    },
    {
      "cell_type": "code",
      "source": [
        "#Analise descritiva das variaveis\n",
        "df.describe()"
      ],
      "metadata": {
        "id": "W87EhbofsFNB",
        "colab": {
          "base_uri": "https://localhost:8080/",
          "height": 300
        },
        "outputId": "b930e075-c891-4417-b3f6-2bc57a1a77b5"
      },
      "execution_count": null,
      "outputs": [
        {
          "output_type": "execute_result",
          "data": {
            "text/plain": [
              "               age          sex          bmi     children       smoker  \\\n",
              "count  1337.000000  1337.000000  1337.000000  1337.000000  1337.000000   \n",
              "mean     39.222139     0.504862    30.663452     1.095737     0.204936   \n",
              "std      14.044333     0.500163     6.100468     1.205571     0.403806   \n",
              "min      18.000000     0.000000    15.960000     0.000000     0.000000   \n",
              "25%      27.000000     0.000000    26.290000     0.000000     0.000000   \n",
              "50%      39.000000     1.000000    30.400000     1.000000     0.000000   \n",
              "75%      51.000000     1.000000    34.700000     2.000000     0.000000   \n",
              "max      64.000000     1.000000    53.130000     5.000000     1.000000   \n",
              "\n",
              "            charges  \n",
              "count   1337.000000  \n",
              "mean   13279.121487  \n",
              "std    12110.359656  \n",
              "min     1121.873900  \n",
              "25%     4746.344000  \n",
              "50%     9386.161300  \n",
              "75%    16657.717450  \n",
              "max    63770.428010  "
            ],
            "text/html": [
              "\n",
              "  <div id=\"df-a2333040-8ad3-408e-899e-18499a37e945\">\n",
              "    <div class=\"colab-df-container\">\n",
              "      <div>\n",
              "<style scoped>\n",
              "    .dataframe tbody tr th:only-of-type {\n",
              "        vertical-align: middle;\n",
              "    }\n",
              "\n",
              "    .dataframe tbody tr th {\n",
              "        vertical-align: top;\n",
              "    }\n",
              "\n",
              "    .dataframe thead th {\n",
              "        text-align: right;\n",
              "    }\n",
              "</style>\n",
              "<table border=\"1\" class=\"dataframe\">\n",
              "  <thead>\n",
              "    <tr style=\"text-align: right;\">\n",
              "      <th></th>\n",
              "      <th>age</th>\n",
              "      <th>sex</th>\n",
              "      <th>bmi</th>\n",
              "      <th>children</th>\n",
              "      <th>smoker</th>\n",
              "      <th>charges</th>\n",
              "    </tr>\n",
              "  </thead>\n",
              "  <tbody>\n",
              "    <tr>\n",
              "      <th>count</th>\n",
              "      <td>1337.000000</td>\n",
              "      <td>1337.000000</td>\n",
              "      <td>1337.000000</td>\n",
              "      <td>1337.000000</td>\n",
              "      <td>1337.000000</td>\n",
              "      <td>1337.000000</td>\n",
              "    </tr>\n",
              "    <tr>\n",
              "      <th>mean</th>\n",
              "      <td>39.222139</td>\n",
              "      <td>0.504862</td>\n",
              "      <td>30.663452</td>\n",
              "      <td>1.095737</td>\n",
              "      <td>0.204936</td>\n",
              "      <td>13279.121487</td>\n",
              "    </tr>\n",
              "    <tr>\n",
              "      <th>std</th>\n",
              "      <td>14.044333</td>\n",
              "      <td>0.500163</td>\n",
              "      <td>6.100468</td>\n",
              "      <td>1.205571</td>\n",
              "      <td>0.403806</td>\n",
              "      <td>12110.359656</td>\n",
              "    </tr>\n",
              "    <tr>\n",
              "      <th>min</th>\n",
              "      <td>18.000000</td>\n",
              "      <td>0.000000</td>\n",
              "      <td>15.960000</td>\n",
              "      <td>0.000000</td>\n",
              "      <td>0.000000</td>\n",
              "      <td>1121.873900</td>\n",
              "    </tr>\n",
              "    <tr>\n",
              "      <th>25%</th>\n",
              "      <td>27.000000</td>\n",
              "      <td>0.000000</td>\n",
              "      <td>26.290000</td>\n",
              "      <td>0.000000</td>\n",
              "      <td>0.000000</td>\n",
              "      <td>4746.344000</td>\n",
              "    </tr>\n",
              "    <tr>\n",
              "      <th>50%</th>\n",
              "      <td>39.000000</td>\n",
              "      <td>1.000000</td>\n",
              "      <td>30.400000</td>\n",
              "      <td>1.000000</td>\n",
              "      <td>0.000000</td>\n",
              "      <td>9386.161300</td>\n",
              "    </tr>\n",
              "    <tr>\n",
              "      <th>75%</th>\n",
              "      <td>51.000000</td>\n",
              "      <td>1.000000</td>\n",
              "      <td>34.700000</td>\n",
              "      <td>2.000000</td>\n",
              "      <td>0.000000</td>\n",
              "      <td>16657.717450</td>\n",
              "    </tr>\n",
              "    <tr>\n",
              "      <th>max</th>\n",
              "      <td>64.000000</td>\n",
              "      <td>1.000000</td>\n",
              "      <td>53.130000</td>\n",
              "      <td>5.000000</td>\n",
              "      <td>1.000000</td>\n",
              "      <td>63770.428010</td>\n",
              "    </tr>\n",
              "  </tbody>\n",
              "</table>\n",
              "</div>\n",
              "      <button class=\"colab-df-convert\" onclick=\"convertToInteractive('df-a2333040-8ad3-408e-899e-18499a37e945')\"\n",
              "              title=\"Convert this dataframe to an interactive table.\"\n",
              "              style=\"display:none;\">\n",
              "        \n",
              "  <svg xmlns=\"http://www.w3.org/2000/svg\" height=\"24px\"viewBox=\"0 0 24 24\"\n",
              "       width=\"24px\">\n",
              "    <path d=\"M0 0h24v24H0V0z\" fill=\"none\"/>\n",
              "    <path d=\"M18.56 5.44l.94 2.06.94-2.06 2.06-.94-2.06-.94-.94-2.06-.94 2.06-2.06.94zm-11 1L8.5 8.5l.94-2.06 2.06-.94-2.06-.94L8.5 2.5l-.94 2.06-2.06.94zm10 10l.94 2.06.94-2.06 2.06-.94-2.06-.94-.94-2.06-.94 2.06-2.06.94z\"/><path d=\"M17.41 7.96l-1.37-1.37c-.4-.4-.92-.59-1.43-.59-.52 0-1.04.2-1.43.59L10.3 9.45l-7.72 7.72c-.78.78-.78 2.05 0 2.83L4 21.41c.39.39.9.59 1.41.59.51 0 1.02-.2 1.41-.59l7.78-7.78 2.81-2.81c.8-.78.8-2.07 0-2.86zM5.41 20L4 18.59l7.72-7.72 1.47 1.35L5.41 20z\"/>\n",
              "  </svg>\n",
              "      </button>\n",
              "      \n",
              "  <style>\n",
              "    .colab-df-container {\n",
              "      display:flex;\n",
              "      flex-wrap:wrap;\n",
              "      gap: 12px;\n",
              "    }\n",
              "\n",
              "    .colab-df-convert {\n",
              "      background-color: #E8F0FE;\n",
              "      border: none;\n",
              "      border-radius: 50%;\n",
              "      cursor: pointer;\n",
              "      display: none;\n",
              "      fill: #1967D2;\n",
              "      height: 32px;\n",
              "      padding: 0 0 0 0;\n",
              "      width: 32px;\n",
              "    }\n",
              "\n",
              "    .colab-df-convert:hover {\n",
              "      background-color: #E2EBFA;\n",
              "      box-shadow: 0px 1px 2px rgba(60, 64, 67, 0.3), 0px 1px 3px 1px rgba(60, 64, 67, 0.15);\n",
              "      fill: #174EA6;\n",
              "    }\n",
              "\n",
              "    [theme=dark] .colab-df-convert {\n",
              "      background-color: #3B4455;\n",
              "      fill: #D2E3FC;\n",
              "    }\n",
              "\n",
              "    [theme=dark] .colab-df-convert:hover {\n",
              "      background-color: #434B5C;\n",
              "      box-shadow: 0px 1px 3px 1px rgba(0, 0, 0, 0.15);\n",
              "      filter: drop-shadow(0px 1px 2px rgba(0, 0, 0, 0.3));\n",
              "      fill: #FFFFFF;\n",
              "    }\n",
              "  </style>\n",
              "\n",
              "      <script>\n",
              "        const buttonEl =\n",
              "          document.querySelector('#df-a2333040-8ad3-408e-899e-18499a37e945 button.colab-df-convert');\n",
              "        buttonEl.style.display =\n",
              "          google.colab.kernel.accessAllowed ? 'block' : 'none';\n",
              "\n",
              "        async function convertToInteractive(key) {\n",
              "          const element = document.querySelector('#df-a2333040-8ad3-408e-899e-18499a37e945');\n",
              "          const dataTable =\n",
              "            await google.colab.kernel.invokeFunction('convertToInteractive',\n",
              "                                                     [key], {});\n",
              "          if (!dataTable) return;\n",
              "\n",
              "          const docLinkHtml = 'Like what you see? Visit the ' +\n",
              "            '<a target=\"_blank\" href=https://colab.research.google.com/notebooks/data_table.ipynb>data table notebook</a>'\n",
              "            + ' to learn more about interactive tables.';\n",
              "          element.innerHTML = '';\n",
              "          dataTable['output_type'] = 'display_data';\n",
              "          await google.colab.output.renderOutput(dataTable, element);\n",
              "          const docLink = document.createElement('div');\n",
              "          docLink.innerHTML = docLinkHtml;\n",
              "          element.appendChild(docLink);\n",
              "        }\n",
              "      </script>\n",
              "    </div>\n",
              "  </div>\n",
              "  "
            ]
          },
          "metadata": {},
          "execution_count": 25
        }
      ]
    },
    {
      "cell_type": "markdown",
      "source": [
        "Criação dos  Modelos Preditivos \n",
        "\n",
        "Parte 1- Regressão Linear Simples"
      ],
      "metadata": {
        "id": "VH_GvdVpQfiE"
      }
    },
    {
      "cell_type": "code",
      "source": [
        "#Separamos X e y,em que y fica com a variavel target\n",
        "X=df['smoker'].values.reshape(-1,1)\n",
        "y=df['charges'].values.reshape(-1,1)"
      ],
      "metadata": {
        "id": "hCUwkPZdsNBP"
      },
      "execution_count": null,
      "outputs": []
    },
    {
      "cell_type": "code",
      "source": [
        "#Dividimos os dados em  80 % para treino e 20 % para teste\n",
        "X_train,X_test,y_train,y_test=train_test_split(X,y,test_size=0.2,random_state=7)"
      ],
      "metadata": {
        "id": "h-P-vA4wsmtf"
      },
      "execution_count": null,
      "outputs": []
    },
    {
      "cell_type": "code",
      "source": [
        "#Criamos o modelo\n",
        "modelo=LinearRegression()\n",
        "#Treinamos o modelo\n",
        "modelo.fit(X_train,y_train)\n",
        "\n",
        "#Fazemos a predição\n",
        "modelo_feito=modelo.predict(X_test)\n",
        "#Agora exibiremos a Acurácia do modelo e embaixo exibiremos o valor real do seguro comparado com o valor predito pelo modelo\n",
        "real_predito=pd.DataFrame({'real':y_test.flatten(),\n",
        "                           'predito':modelo_feito.flatten()})\n",
        "\n",
        "print('Acurácia: %.2f'% (modelo.score(X_test, y_test)*100), '%' )\n",
        "print(real_predito)"
      ],
      "metadata": {
        "id": "z4p4FpQIs68u"
      },
      "execution_count": null,
      "outputs": []
    },
    {
      "cell_type": "markdown",
      "source": [
        "Parte 2- Regressão Linear Múltipla"
      ],
      "metadata": {
        "id": "DHV_OPy-Si-v"
      }
    },
    {
      "cell_type": "code",
      "source": [
        "#Fazemos um 'drop' no x para a eliminação das variaveis 'charges' e 'region'\n",
        "#Todas as outras variaveis do dataset estao dentro do X ,menos as 2 que eliminamos\n",
        "X=df.drop(['charges','region'],axis=1)\n",
        "\n",
        "#y recebe o target \n",
        "y=df['charges'].values.reshape(-1,1)\n",
        "\n",
        "#Dividimos os dados em  80 % para treino e 20 % para teste\n",
        "X_train,X_test,y_train,y_test=train_test_split(X,y,test_size=0.2,random_state=7)\n"
      ],
      "metadata": {
        "id": "Infg8IX9uNTv"
      },
      "execution_count": null,
      "outputs": []
    },
    {
      "cell_type": "code",
      "source": [
        "#Criamos o modelo\n",
        "modelo=LinearRegression()\n",
        "\n",
        "modelo.fit(X_train,y_train)\n",
        "#E agora chamamos a Acuracia\n",
        "print('Acurácia: %.2f'% (modelo.score(X_test, y_test)*100), '%' )\n",
        "#Acuracia teve uma melhora de 12,67 por cento ao se utilizar varias variaveis para prever"
      ],
      "metadata": {
        "id": "iHJilVmauuN2",
        "colab": {
          "base_uri": "https://localhost:8080/"
        },
        "outputId": "903ad558-4215-4973-c1d2-ab24cd8a23ec"
      },
      "execution_count": null,
      "outputs": [
        {
          "output_type": "stream",
          "name": "stdout",
          "text": [
            "Acurácia: 74.40 %\n"
          ]
        }
      ]
    }
  ]
}