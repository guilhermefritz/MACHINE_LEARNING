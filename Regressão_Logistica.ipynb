{
  "nbformat": 4,
  "nbformat_minor": 0,
  "metadata": {
    "colab": {
      "provenance": [],
      "authorship_tag": "ABX9TyNGkASMQhriZ4Ei7EM/dsqj",
      "include_colab_link": true
    },
    "kernelspec": {
      "name": "python3",
      "display_name": "Python 3"
    },
    "language_info": {
      "name": "python"
    }
  },
  "cells": [
    {
      "cell_type": "markdown",
      "metadata": {
        "id": "view-in-github",
        "colab_type": "text"
      },
      "source": [
        "<a href=\"https://colab.research.google.com/github/guilhermefritz/Machine_Learning/blob/main/Regress%C3%A3o_Logistica.ipynb\" target=\"_parent\"><img src=\"https://colab.research.google.com/assets/colab-badge.svg\" alt=\"Open In Colab\"/></a>"
      ]
    },
    {
      "cell_type": "markdown",
      "source": [
        "Problema de Classificação- Utilizando  Regressão logistica  e Xgboost\n",
        "\n",
        "\n",
        "Previsão de Diabetes em mulheres por meio da análise preditiva  de exames das pacientes.\n",
        "\n",
        "https://archive.ics.uci.edu/ml/machine-learning-databases/diabetes/\n",
        "\n",
        "https://www.kaggle.com/uciml/pima-indians-diabetes-database\n",
        "\n"
      ],
      "metadata": {
        "id": "LN2uF5kqDNfU"
      }
    },
    {
      "cell_type": "code",
      "source": [
        "#importando pacotes\n",
        "import os\n",
        "import pandas as pd \n",
        "import seaborn as sns\n",
        "from sklearn.model_selection import KFold\n",
        "from sklearn.model_selection import cross_val_score\n",
        "from sklearn.linear_model import LogisticRegression\n",
        "from sklearn.preprocessing import MinMaxScaler\n",
        "from sklearn.preprocessing import StandardScaler\n",
        "\n",
        "import warnings\n",
        "warnings.filterwarnings('ignore')\n"
      ],
      "metadata": {
        "id": "KifakBPFDOp8"
      },
      "execution_count": 62,
      "outputs": []
    },
    {
      "cell_type": "code",
      "source": [
        "#Importando o DataFrame\n",
        "colunas = ['preg', 'plas', 'pres', 'skin', 'test', 'mass', 'pedi', 'age', 'class']\n",
        "df=pd.read_csv('/content/pima-data (1).csv',names=colunas)\n",
        "\n"
      ],
      "metadata": {
        "id": "HGjPWyGA2w4j"
      },
      "execution_count": 37,
      "outputs": []
    },
    {
      "cell_type": "code",
      "source": [
        "#Exibindo uma prévia do Dataset\n",
        "df.head()"
      ],
      "metadata": {
        "id": "C_-4-Sw69Qgx",
        "colab": {
          "base_uri": "https://localhost:8080/",
          "height": 206
        },
        "outputId": "2c66a25a-0738-4865-b794-0f2d3a3219b3"
      },
      "execution_count": 65,
      "outputs": [
        {
          "output_type": "execute_result",
          "data": {
            "text/plain": [
              "   preg  plas  pres  skin  test  mass   pedi  age  class\n",
              "0     6   148    72    35     0  33.6  0.627   50      1\n",
              "1     1    85    66    29     0  26.6  0.351   31      0\n",
              "2     8   183    64     0     0  23.3  0.672   32      1\n",
              "3     1    89    66    23    94  28.1  0.167   21      0\n",
              "4     0   137    40    35   168  43.1  2.288   33      1"
            ],
            "text/html": [
              "\n",
              "  <div id=\"df-a341f6a0-a7e9-4c63-9cc2-16a349101f2c\">\n",
              "    <div class=\"colab-df-container\">\n",
              "      <div>\n",
              "<style scoped>\n",
              "    .dataframe tbody tr th:only-of-type {\n",
              "        vertical-align: middle;\n",
              "    }\n",
              "\n",
              "    .dataframe tbody tr th {\n",
              "        vertical-align: top;\n",
              "    }\n",
              "\n",
              "    .dataframe thead th {\n",
              "        text-align: right;\n",
              "    }\n",
              "</style>\n",
              "<table border=\"1\" class=\"dataframe\">\n",
              "  <thead>\n",
              "    <tr style=\"text-align: right;\">\n",
              "      <th></th>\n",
              "      <th>preg</th>\n",
              "      <th>plas</th>\n",
              "      <th>pres</th>\n",
              "      <th>skin</th>\n",
              "      <th>test</th>\n",
              "      <th>mass</th>\n",
              "      <th>pedi</th>\n",
              "      <th>age</th>\n",
              "      <th>class</th>\n",
              "    </tr>\n",
              "  </thead>\n",
              "  <tbody>\n",
              "    <tr>\n",
              "      <th>0</th>\n",
              "      <td>6</td>\n",
              "      <td>148</td>\n",
              "      <td>72</td>\n",
              "      <td>35</td>\n",
              "      <td>0</td>\n",
              "      <td>33.6</td>\n",
              "      <td>0.627</td>\n",
              "      <td>50</td>\n",
              "      <td>1</td>\n",
              "    </tr>\n",
              "    <tr>\n",
              "      <th>1</th>\n",
              "      <td>1</td>\n",
              "      <td>85</td>\n",
              "      <td>66</td>\n",
              "      <td>29</td>\n",
              "      <td>0</td>\n",
              "      <td>26.6</td>\n",
              "      <td>0.351</td>\n",
              "      <td>31</td>\n",
              "      <td>0</td>\n",
              "    </tr>\n",
              "    <tr>\n",
              "      <th>2</th>\n",
              "      <td>8</td>\n",
              "      <td>183</td>\n",
              "      <td>64</td>\n",
              "      <td>0</td>\n",
              "      <td>0</td>\n",
              "      <td>23.3</td>\n",
              "      <td>0.672</td>\n",
              "      <td>32</td>\n",
              "      <td>1</td>\n",
              "    </tr>\n",
              "    <tr>\n",
              "      <th>3</th>\n",
              "      <td>1</td>\n",
              "      <td>89</td>\n",
              "      <td>66</td>\n",
              "      <td>23</td>\n",
              "      <td>94</td>\n",
              "      <td>28.1</td>\n",
              "      <td>0.167</td>\n",
              "      <td>21</td>\n",
              "      <td>0</td>\n",
              "    </tr>\n",
              "    <tr>\n",
              "      <th>4</th>\n",
              "      <td>0</td>\n",
              "      <td>137</td>\n",
              "      <td>40</td>\n",
              "      <td>35</td>\n",
              "      <td>168</td>\n",
              "      <td>43.1</td>\n",
              "      <td>2.288</td>\n",
              "      <td>33</td>\n",
              "      <td>1</td>\n",
              "    </tr>\n",
              "  </tbody>\n",
              "</table>\n",
              "</div>\n",
              "      <button class=\"colab-df-convert\" onclick=\"convertToInteractive('df-a341f6a0-a7e9-4c63-9cc2-16a349101f2c')\"\n",
              "              title=\"Convert this dataframe to an interactive table.\"\n",
              "              style=\"display:none;\">\n",
              "        \n",
              "  <svg xmlns=\"http://www.w3.org/2000/svg\" height=\"24px\"viewBox=\"0 0 24 24\"\n",
              "       width=\"24px\">\n",
              "    <path d=\"M0 0h24v24H0V0z\" fill=\"none\"/>\n",
              "    <path d=\"M18.56 5.44l.94 2.06.94-2.06 2.06-.94-2.06-.94-.94-2.06-.94 2.06-2.06.94zm-11 1L8.5 8.5l.94-2.06 2.06-.94-2.06-.94L8.5 2.5l-.94 2.06-2.06.94zm10 10l.94 2.06.94-2.06 2.06-.94-2.06-.94-.94-2.06-.94 2.06-2.06.94z\"/><path d=\"M17.41 7.96l-1.37-1.37c-.4-.4-.92-.59-1.43-.59-.52 0-1.04.2-1.43.59L10.3 9.45l-7.72 7.72c-.78.78-.78 2.05 0 2.83L4 21.41c.39.39.9.59 1.41.59.51 0 1.02-.2 1.41-.59l7.78-7.78 2.81-2.81c.8-.78.8-2.07 0-2.86zM5.41 20L4 18.59l7.72-7.72 1.47 1.35L5.41 20z\"/>\n",
              "  </svg>\n",
              "      </button>\n",
              "      \n",
              "  <style>\n",
              "    .colab-df-container {\n",
              "      display:flex;\n",
              "      flex-wrap:wrap;\n",
              "      gap: 12px;\n",
              "    }\n",
              "\n",
              "    .colab-df-convert {\n",
              "      background-color: #E8F0FE;\n",
              "      border: none;\n",
              "      border-radius: 50%;\n",
              "      cursor: pointer;\n",
              "      display: none;\n",
              "      fill: #1967D2;\n",
              "      height: 32px;\n",
              "      padding: 0 0 0 0;\n",
              "      width: 32px;\n",
              "    }\n",
              "\n",
              "    .colab-df-convert:hover {\n",
              "      background-color: #E2EBFA;\n",
              "      box-shadow: 0px 1px 2px rgba(60, 64, 67, 0.3), 0px 1px 3px 1px rgba(60, 64, 67, 0.15);\n",
              "      fill: #174EA6;\n",
              "    }\n",
              "\n",
              "    [theme=dark] .colab-df-convert {\n",
              "      background-color: #3B4455;\n",
              "      fill: #D2E3FC;\n",
              "    }\n",
              "\n",
              "    [theme=dark] .colab-df-convert:hover {\n",
              "      background-color: #434B5C;\n",
              "      box-shadow: 0px 1px 3px 1px rgba(0, 0, 0, 0.15);\n",
              "      filter: drop-shadow(0px 1px 2px rgba(0, 0, 0, 0.3));\n",
              "      fill: #FFFFFF;\n",
              "    }\n",
              "  </style>\n",
              "\n",
              "      <script>\n",
              "        const buttonEl =\n",
              "          document.querySelector('#df-a341f6a0-a7e9-4c63-9cc2-16a349101f2c button.colab-df-convert');\n",
              "        buttonEl.style.display =\n",
              "          google.colab.kernel.accessAllowed ? 'block' : 'none';\n",
              "\n",
              "        async function convertToInteractive(key) {\n",
              "          const element = document.querySelector('#df-a341f6a0-a7e9-4c63-9cc2-16a349101f2c');\n",
              "          const dataTable =\n",
              "            await google.colab.kernel.invokeFunction('convertToInteractive',\n",
              "                                                     [key], {});\n",
              "          if (!dataTable) return;\n",
              "\n",
              "          const docLinkHtml = 'Like what you see? Visit the ' +\n",
              "            '<a target=\"_blank\" href=https://colab.research.google.com/notebooks/data_table.ipynb>data table notebook</a>'\n",
              "            + ' to learn more about interactive tables.';\n",
              "          element.innerHTML = '';\n",
              "          dataTable['output_type'] = 'display_data';\n",
              "          await google.colab.output.renderOutput(dataTable, element);\n",
              "          const docLink = document.createElement('div');\n",
              "          docLink.innerHTML = docLinkHtml;\n",
              "          element.appendChild(docLink);\n",
              "        }\n",
              "      </script>\n",
              "    </div>\n",
              "  </div>\n",
              "  "
            ]
          },
          "metadata": {},
          "execution_count": 65
        }
      ]
    },
    {
      "cell_type": "code",
      "source": [
        "#Campos\n",
        "df.columns\n"
      ],
      "metadata": {
        "colab": {
          "base_uri": "https://localhost:8080/"
        },
        "id": "WnJqOJlJELh_",
        "outputId": "7a614113-48ea-4f80-8cb5-408be59bc551"
      },
      "execution_count": 66,
      "outputs": [
        {
          "output_type": "execute_result",
          "data": {
            "text/plain": [
              "Index(['preg', 'plas', 'pres', 'skin', 'test', 'mass', 'pedi', 'age', 'class'], dtype='object')"
            ]
          },
          "metadata": {},
          "execution_count": 66
        }
      ]
    },
    {
      "cell_type": "code",
      "source": [
        "#DESCRIÇAO DE CADA CAMPO:\n",
        "#preg-NUMERO DE VEZES QUE FICOU GRAVIDA\n",
        "#plas-GLICOSE\n",
        "#pres-PRESSAO SANGUE\n",
        "#skin-DOBRA CUTANEA\n",
        "#test-TESTE INSULINA\n",
        "#mass-INDICE DE MASSA CORPORAL\n",
        "#pedi-FUNÇÃO DE PEDIGREE DIABETES-CALCULA A PROBABILIDADE DE DIABETES COM BASE NO HISTORICO FAMILIAR E IDADE\n",
        "#age-IDADE\n",
        "#class-CLASSE QUE QUEREMOS PREVER"
      ],
      "metadata": {
        "id": "qgO2017nGKcm"
      },
      "execution_count": 67,
      "outputs": []
    },
    {
      "cell_type": "code",
      "source": [
        "#Transformando em formato array\n",
        "array=df.values\n",
        "array"
      ],
      "metadata": {
        "id": "KUmTnoic4hMK"
      },
      "execution_count": null,
      "outputs": []
    },
    {
      "cell_type": "code",
      "source": [
        "#Chamando informações sobre o dataset\n",
        "df.info()\n"
      ],
      "metadata": {
        "id": "VKuIRYIn3SB_"
      },
      "execution_count": null,
      "outputs": []
    },
    {
      "cell_type": "code",
      "source": [
        "#Verificando a presença de valores missing\n",
        "df.isnull().sum()\n"
      ],
      "metadata": {
        "id": "ZaFKe3fQ3ytY"
      },
      "execution_count": null,
      "outputs": []
    },
    {
      "cell_type": "code",
      "source": [
        "#Verificando a presença de valores duplicados\n",
        "df.duplicated().sum()"
      ],
      "metadata": {
        "id": "FEHT-3r031Xu"
      },
      "execution_count": null,
      "outputs": []
    },
    {
      "cell_type": "code",
      "source": [
        "#Analise descritiva do dataset\n",
        "df.describe()"
      ],
      "metadata": {
        "id": "Wv4mwFx--ULP"
      },
      "execution_count": null,
      "outputs": []
    },
    {
      "cell_type": "code",
      "source": [
        "#Visualizaçao grafica da distribuição da variavel 'pedi'\n",
        "sns.boxplot(df.pedi)\n",
        "#percebemos a presença de outliers\n"
      ],
      "metadata": {
        "id": "3sMFtimU36PQ"
      },
      "execution_count": null,
      "outputs": []
    },
    {
      "cell_type": "code",
      "source": [
        "#Analise grafica da contagem da variavel 'test' por meio de histogramas\n",
        "sns.histplot(df.test)"
      ],
      "metadata": {
        "id": "iNOBVmPU4Frv"
      },
      "execution_count": null,
      "outputs": []
    },
    {
      "cell_type": "code",
      "source": [
        "#Analise da correlaçao entre as variaveis\n",
        "df.corr()"
      ],
      "metadata": {
        "id": "ai6kNJ115Ri_"
      },
      "execution_count": null,
      "outputs": []
    },
    {
      "cell_type": "code",
      "source": [
        "#pre processamento dos dados\n",
        "\n",
        "#definindo os valores de X(variaveis explicativas) y(variavel target)\n",
        "X=array[:,:8]\n",
        "y=array[:,8]"
      ],
      "metadata": {
        "id": "EOsy3Hyc5UOn"
      },
      "execution_count": 50,
      "outputs": []
    },
    {
      "cell_type": "code",
      "source": [
        "#Construção da maquina preditiva\n",
        "# Definindo os valores para o número de folds\n",
        "num_folds = 10\n",
        "seeds = 7\n",
        "#chamando o KFold-Para dividir nossos dados entre treino e teste. \n",
        "kfold=KFold(num_folds,random_state=seeds, shuffle=True)"
      ],
      "metadata": {
        "id": "BNIJcrVd6dTB"
      },
      "execution_count": 51,
      "outputs": []
    },
    {
      "cell_type": "code",
      "source": [
        "#Chamando a Regressao logistica\n",
        "modelo=LogisticRegression()\n"
      ],
      "metadata": {
        "id": "syw8xaqe6OG2"
      },
      "execution_count": 52,
      "outputs": []
    },
    {
      "cell_type": "code",
      "source": [
        "resultado=cross_val_score(modelo,X,y,cv=kfold)\n",
        "print(\"Acurácia: %.3f\" % (resultado.mean() * 100))\n",
        "\n",
        "#Acurácia do modelo sem padronizar nem normalizar os dados -77.604\n",
        "\n"
      ],
      "metadata": {
        "colab": {
          "base_uri": "https://localhost:8080/"
        },
        "id": "isFe7nJs7CEk",
        "outputId": "a261cb82-eea1-4739-99a2-6fa8ae2cc0c0"
      },
      "execution_count": 53,
      "outputs": [
        {
          "output_type": "stream",
          "name": "stdout",
          "text": [
            "Acurácia: 77.604\n"
          ]
        }
      ]
    },
    {
      "cell_type": "code",
      "source": [
        "#Normalizando\n",
        "scaler = MinMaxScaler(feature_range = (0, 1))\n",
        "rescaledX = scaler.fit_transform(X)\n",
        "resultado_norm=cross_val_score(modelo,rescaledX ,y,cv=kfold)\n",
        "print(\"Acurácia: %.3f\" % (resultado_norm.mean() * 100))\n",
        "#Normalizando - Acurácia do modelo :77.479"
      ],
      "metadata": {
        "colab": {
          "base_uri": "https://localhost:8080/"
        },
        "id": "sbDif7aK7aj1",
        "outputId": "b47d7468-a24f-43d3-c347-075203d8b07d"
      },
      "execution_count": 54,
      "outputs": [
        {
          "output_type": "stream",
          "name": "stdout",
          "text": [
            "Acurácia: 77.479\n"
          ]
        }
      ]
    },
    {
      "cell_type": "code",
      "source": [
        "#Padronizando\n",
        "StandardScaler().fit(X)\n",
        "standardX = scaler.transform(X)\n",
        "resultado_padr=cross_val_score(modelo,standardX ,y,cv=kfold)\n",
        "print(\"Acurácia: %.3f\" % (resultado_padr.mean() * 100))\n",
        "#Padronizando-Acurácia do modelo 77.479"
      ],
      "metadata": {
        "colab": {
          "base_uri": "https://localhost:8080/"
        },
        "id": "eD0yuGLb_nk4",
        "outputId": "0eb26268-a832-4823-bc0e-3170bae1e405"
      },
      "execution_count": 55,
      "outputs": [
        {
          "output_type": "stream",
          "name": "stdout",
          "text": [
            "Acurácia: 77.479\n"
          ]
        }
      ]
    },
    {
      "cell_type": "markdown",
      "source": [
        "COMPARANDO COM O XGBOOST"
      ],
      "metadata": {
        "id": "mf8fdrNpH0Il"
      }
    },
    {
      "cell_type": "code",
      "source": [
        "\n",
        "#importando pacotes\n",
        "from sklearn.model_selection import train_test_split\n",
        "import pandas as pd\n",
        "from sklearn.metrics import accuracy_score\n",
        "from xgboost import XGBClassifier"
      ],
      "metadata": {
        "id": "1KPOjSrsAGFF"
      },
      "execution_count": 56,
      "outputs": []
    },
    {
      "cell_type": "code",
      "source": [
        "teste_size=0.33\n",
        "seed=7\n"
      ],
      "metadata": {
        "id": "AceAE7uj5v-J"
      },
      "execution_count": 57,
      "outputs": []
    },
    {
      "cell_type": "code",
      "source": [
        "#definindo dados de treino e de teste\n",
        "X_train,X_test,y_train,y_test=train_test_split(X,y,test_size=teste_size,random_state=seed)"
      ],
      "metadata": {
        "id": "A-qC5PAW6FJx"
      },
      "execution_count": 58,
      "outputs": []
    },
    {
      "cell_type": "code",
      "source": [
        "#chamando o XGBClassifier\n",
        "modelo=XGBClassifier()\n",
        "#Treinando o modelo\n",
        "modelo.fit(X_train,y_train)\n"
      ],
      "metadata": {
        "id": "VVCJ7E4b6LD4"
      },
      "execution_count": null,
      "outputs": []
    },
    {
      "cell_type": "code",
      "source": [
        "#Fazendo a previsão \n",
        "y_pred=modelo.predict(X_test)\n",
        "previsoes = [round(value) for value in y_pred]"
      ],
      "metadata": {
        "id": "r_TgBGR76YfQ"
      },
      "execution_count": 60,
      "outputs": []
    },
    {
      "cell_type": "code",
      "source": [
        "\n",
        "accuracy = accuracy_score(y_test, previsoes)\n",
        "print(\"Acurácia: %.2f%%\" % (accuracy * 100.0))\n",
        "#Acurácia :74.02\n",
        "#obs:O modelo XGB está em sua forma mais simples ,mas com esse exemplo podemos ver que a regressão logistica é eficiente. \n"
      ],
      "metadata": {
        "colab": {
          "base_uri": "https://localhost:8080/"
        },
        "id": "Uj46n5057B6x",
        "outputId": "464cf15e-58f7-4dde-b620-647f1fbdc89d"
      },
      "execution_count": 61,
      "outputs": [
        {
          "output_type": "stream",
          "name": "stdout",
          "text": [
            "Acurácia: 74.02%\n"
          ]
        }
      ]
    }
  ]
}