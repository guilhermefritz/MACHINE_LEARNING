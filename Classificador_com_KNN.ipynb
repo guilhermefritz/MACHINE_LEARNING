{
  "nbformat": 4,
  "nbformat_minor": 0,
  "metadata": {
    "colab": {
      "provenance": [],
      "authorship_tag": "ABX9TyNn9xAO5p5Ob1gTMev8hr6t",
      "include_colab_link": true
    },
    "kernelspec": {
      "name": "python3",
      "display_name": "Python 3"
    },
    "language_info": {
      "name": "python"
    }
  },
  "cells": [
    {
      "cell_type": "markdown",
      "metadata": {
        "id": "view-in-github",
        "colab_type": "text"
      },
      "source": [
        "<a href=\"https://colab.research.google.com/github/guilhermefritz/Machine_Learning/blob/main/Classificador_com_KNN.ipynb\" target=\"_parent\"><img src=\"https://colab.research.google.com/assets/colab-badge.svg\" alt=\"Open In Colab\"/></a>"
      ]
    },
    {
      "cell_type": "markdown",
      "source": [
        "Projeto-Avaliando dano veicular.\n",
        "\n",
        "Problema de negócio: Construir  um classificador utilizando o algoritmo KNN  \n",
        "(K-nearest neighbors)"
      ],
      "metadata": {
        "id": "qa6bm4yarrql"
      }
    },
    {
      "cell_type": "code",
      "source": [
        "#Importando os pacotes\n",
        "import pandas as pd\n",
        "import numpy as np\n",
        "import seaborn as sns\n",
        "from sklearn import metrics\n",
        "from sklearn.model_selection import train_test_split\n",
        "from sklearn.preprocessing import LabelEncoder\n",
        "from sklearn.preprocessing import StandardScaler\n",
        "from sklearn.neighbors import KNeighborsClassifier"
      ],
      "metadata": {
        "id": "o8x6W_7drq2f"
      },
      "execution_count": 30,
      "outputs": []
    },
    {
      "cell_type": "code",
      "source": [
        "#Trazendo o Dataframe\n",
        "df=pd.read_csv(\"/content/dano.csv\",sep=';')\n",
        "\n",
        "#Exibindo as primeiras linhas\n",
        "df.head()\n"
      ],
      "metadata": {
        "id": "_ta912C4xP6H"
      },
      "execution_count": null,
      "outputs": []
    },
    {
      "cell_type": "code",
      "source": [
        "#informações sobre os campos\n",
        "df.info()"
      ],
      "metadata": {
        "id": "a3Fc2tkgxjT8"
      },
      "execution_count": null,
      "outputs": []
    },
    {
      "cell_type": "code",
      "source": [
        "#Campos \n",
        "df.columns"
      ],
      "metadata": {
        "id": "IRVXYxW1oCTd"
      },
      "execution_count": null,
      "outputs": []
    },
    {
      "cell_type": "markdown",
      "source": [
        "#Descrição campos:\n",
        "\n",
        "####ID_Veicular=Identificador de cada carro\n",
        "####\tLaterais-Dano parte lateral\n",
        "####Dianteira- Dano parte dianteira\n",
        "####\tTraseira-Dano parte traseira\n",
        "####Teto-Dano teto\n",
        "#### Dano_Veicular-Variavel target"
      ],
      "metadata": {
        "id": "wdEAwM67njZe"
      }
    },
    {
      "cell_type": "code",
      "source": [
        "#pre processamento\n",
        "#Definindo as variaveis explicativas X,e a variavel target y\n",
        "X=df.iloc[:,:-1].values\n",
        "y=df.iloc[:,-1].values"
      ],
      "metadata": {
        "id": "efHSxIR2xpUD"
      },
      "execution_count": 34,
      "outputs": []
    },
    {
      "cell_type": "code",
      "source": [
        "#Faremos o Encode-Transformando a variavel categorica em numerica\n",
        "#visualizando como estava antes:\n",
        "df['Dano_Veicular']\n"
      ],
      "metadata": {
        "id": "R-j3XI_UzeXN"
      },
      "execution_count": null,
      "outputs": []
    },
    {
      "cell_type": "code",
      "source": [
        "#Aplciando o encode\n",
        "le=LabelEncoder()\n",
        "df['Dano_Veicular']=le.fit_transform(df['Dano_Veicular'])\n"
      ],
      "metadata": {
        "id": "6RBlFmZzob7E"
      },
      "execution_count": 36,
      "outputs": []
    },
    {
      "cell_type": "code",
      "source": [
        "#Como ficou:\n",
        "\n",
        "df['Dano_Veicular'].unique()\n"
      ],
      "metadata": {
        "id": "QqzpCnLQodnc"
      },
      "execution_count": null,
      "outputs": []
    },
    {
      "cell_type": "code",
      "source": [
        "#Analise descritiva \n",
        "df.describe()"
      ],
      "metadata": {
        "id": "RLD6O_3KrT9D"
      },
      "execution_count": null,
      "outputs": []
    },
    {
      "cell_type": "code",
      "source": [
        "#Separando os dados de treino e de teste\n",
        "X_train,X_test,y_train,y_test=train_test_split(X,y,test_size=0.2,random_state=7)"
      ],
      "metadata": {
        "id": "HSovVtU5z7r1"
      },
      "execution_count": 39,
      "outputs": []
    },
    {
      "cell_type": "code",
      "source": [
        "#Padronizando as features\n",
        "sc=StandardScaler()\n",
        "X_train=sc.fit_transform(X_train)\n",
        "X_test=sc.fit_transform(X_test)"
      ],
      "metadata": {
        "id": "97YeXG0o0T1C"
      },
      "execution_count": 40,
      "outputs": []
    },
    {
      "cell_type": "code",
      "source": [
        "#Construindo a maquina preditiva com knn classifier\n",
        "maquina=KNeighborsClassifier(3)\n",
        "#treinando                 \n",
        "maquina.fit(X_train,y_train)\n",
        "#predição\n",
        "y_pred=maquina.predict(X_test)"
      ],
      "metadata": {
        "id": "M7258qqN04z1"
      },
      "execution_count": 41,
      "outputs": []
    },
    {
      "cell_type": "code",
      "source": [
        "print(\"\\n-------\\n\")\n",
        "print(\"Valores Preditos com dados de Teste :\\n\",y_pred)\n",
        "print(\"\\n---------------------------\\n\")\n",
        "print(\"Valores Reais com dados de teste :\\n\",y_test)"
      ],
      "metadata": {
        "id": "dA-3x2rT1avz"
      },
      "execution_count": null,
      "outputs": []
    },
    {
      "cell_type": "code",
      "source": [
        "#Dataframe pra comparação\n",
        "print(\"\\nReal vs Predito \\n---------------\\n\")\n",
        "real_predito = pd.DataFrame({\"Real\" : y_test,\n",
        "                         \"Predito\" : y_pred})\n",
        "\n",
        "real_predito"
      ],
      "metadata": {
        "id": "9jXs2c9drFDk"
      },
      "execution_count": null,
      "outputs": []
    },
    {
      "cell_type": "code",
      "source": [
        "#Acurácia do modelo\n",
        "print(\"Acurácia da Máquina = \", metrics.accuracy_score(y_test, y_pred)*100)\n"
      ],
      "metadata": {
        "colab": {
          "base_uri": "https://localhost:8080/"
        },
        "id": "jrZ-ab2Y1fly",
        "outputId": "8ecea53a-fd74-4fde-a5ed-f58c050db88f"
      },
      "execution_count": 44,
      "outputs": [
        {
          "output_type": "stream",
          "name": "stdout",
          "text": [
            "Acurácia da Máquina =  93.33333333333333\n"
          ]
        }
      ]
    },
    {
      "cell_type": "code",
      "source": [
        "#Trazendo mais metricas para poder avaliar melhor o modelo\n",
        "from sklearn.metrics import confusion_matrix, classification_report\n",
        "cm = confusion_matrix(y_test,y_pred)\n",
        "print(cm)\n"
      ],
      "metadata": {
        "colab": {
          "base_uri": "https://localhost:8080/"
        },
        "id": "BQIDCxmf5JWy",
        "outputId": "1ce4e6fa-e73f-47b6-9d87-05c6d9bdb8f9"
      },
      "execution_count": 45,
      "outputs": [
        {
          "output_type": "stream",
          "name": "stdout",
          "text": [
            "[[ 7  0  0]\n",
            " [ 0  9  2]\n",
            " [ 0  0 12]]\n"
          ]
        }
      ]
    },
    {
      "cell_type": "code",
      "source": [
        "cr = classification_report(y_test, y_pred)\n",
        "print(cr)\n",
        "#Mostrando a precisão de cada dano,qtd de valores analisados(support),\n",
        "#F1-score=media harmonica entre precision e recall"
      ],
      "metadata": {
        "colab": {
          "base_uri": "https://localhost:8080/"
        },
        "id": "5UKfKvHCpkMl",
        "outputId": "c1426ee4-1be5-4f81-ba55-463db83fa5c6"
      },
      "execution_count": 46,
      "outputs": [
        {
          "output_type": "stream",
          "name": "stdout",
          "text": [
            "              precision    recall  f1-score   support\n",
            "\n",
            "   Dano-Alto       1.00      1.00      1.00         7\n",
            "  Dano-Baixo       1.00      0.82      0.90        11\n",
            "  Dano-Medio       0.86      1.00      0.92        12\n",
            "\n",
            "    accuracy                           0.93        30\n",
            "   macro avg       0.95      0.94      0.94        30\n",
            "weighted avg       0.94      0.93      0.93        30\n",
            "\n"
          ]
        }
      ]
    }
  ]
}